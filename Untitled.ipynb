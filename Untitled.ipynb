{
 "cells": [
  {
   "cell_type": "code",
   "execution_count": 1,
   "metadata": {},
   "outputs": [],
   "source": [
    "import numpy as np"
   ]
  },
  {
   "cell_type": "code",
   "execution_count": 5,
   "metadata": {},
   "outputs": [],
   "source": [
    "class my_linear_regression:\n",
    "    \n",
    "    def my_linear_regression():\n",
    "        self.betas = None\n",
    "    \n",
    "    def fit(X, y):\n",
    "        tmp = np.ones([len(X), 1])\n",
    "        x = np.hstack((tmp, X))\n",
    "        self.betas = np.linalg.inv(x.T.dot(x)).dot(x.T).dot(y)\n",
    "    \n",
    "    def pred(x):\n",
    "        return x.dot(self.betas)\n",
    "    \n",
    "    def fit_ridge(X, y, lbd):\n",
    "        tmp = np.ones([len(X), 1])\n",
    "        x = np.hstack((tmp, X))\n",
    "        self.betas = np.linalg.inv(x.T.dot(x) - \\\n",
    "                     lbd.dot(eye(len(x)))).dot(x.T).dot(y)\n",
    "        \n",
    "    def _lasso_sgd(x, y):\n",
    "        \n",
    "        "
   ]
  },
  {
   "cell_type": "code",
   "execution_count": 4,
   "metadata": {},
   "outputs": [],
   "source": []
  },
  {
   "cell_type": "code",
   "execution_count": null,
   "metadata": {},
   "outputs": [],
   "source": []
  }
 ],
 "metadata": {
  "kernelspec": {
   "display_name": "Python 3",
   "language": "python",
   "name": "python3"
  },
  "language_info": {
   "codemirror_mode": {
    "name": "ipython",
    "version": 3
   },
   "file_extension": ".py",
   "mimetype": "text/x-python",
   "name": "python",
   "nbconvert_exporter": "python",
   "pygments_lexer": "ipython3",
   "version": "3.8.5"
  }
 },
 "nbformat": 4,
 "nbformat_minor": 4
}
